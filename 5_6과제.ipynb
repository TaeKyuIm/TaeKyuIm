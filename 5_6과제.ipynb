{
 "cells": [
  {
   "cell_type": "markdown",
   "id": "67bd053a",
   "metadata": {},
   "source": [
    "## 문제1"
   ]
  },
  {
   "cell_type": "code",
   "execution_count": 1,
   "id": "940b1a27",
   "metadata": {},
   "outputs": [
    {
     "name": "stdout",
     "output_type": "stream",
     "text": [
      "첫번째 숫자 입력 : 5\n",
      "두번째 숫자 입력 : 3\n",
      "두 수의 합은 8 입니다\n"
     ]
    }
   ],
   "source": [
    "first_num = int(input('첫번째 숫자 입력 : '))\n",
    "# (키보드로 숫자 5 입력)\n",
    "second_num = int(input('두번째 숫자 입력 : '))\n",
    "# (키보드로 숫자 3 입력)\n",
    "print('두 수의 합은 %d 입니다' % (first_num + second_num))"
   ]
  },
  {
   "cell_type": "markdown",
   "id": "35b0d0ea",
   "metadata": {},
   "source": [
    "## 문제2"
   ]
  },
  {
   "cell_type": "code",
   "execution_count": 2,
   "id": "5ed5b04c",
   "metadata": {},
   "outputs": [
    {
     "name": "stdout",
     "output_type": "stream",
     "text": [
      "임태규\n"
     ]
    }
   ],
   "source": [
    "name = '임태규'\n",
    "print(name)"
   ]
  },
  {
   "cell_type": "markdown",
   "id": "c1c333b1",
   "metadata": {},
   "source": [
    "## 문제3"
   ]
  },
  {
   "cell_type": "code",
   "execution_count": 3,
   "id": "6382898c",
   "metadata": {},
   "outputs": [],
   "source": [
    "scores = [100, 90, 85, 80, 70, 60]\n",
    "results = []\n",
    "for i in scores:\n",
    "    if i >= 90:\n",
    "        results.append('A')\n",
    "    elif i >= 80:\n",
    "        results.append('B')\n",
    "    elif i >= 70:\n",
    "        results.append('C')\n",
    "    else:\n",
    "        results.append('D')"
   ]
  },
  {
   "cell_type": "code",
   "execution_count": 4,
   "id": "2dc9baa8",
   "metadata": {},
   "outputs": [
    {
     "data": {
      "text/plain": [
       "['A', 'A', 'B', 'B', 'C', 'D']"
      ]
     },
     "execution_count": 4,
     "metadata": {},
     "output_type": "execute_result"
    }
   ],
   "source": [
    "results"
   ]
  },
  {
   "cell_type": "markdown",
   "id": "fa56fd78",
   "metadata": {},
   "source": [
    "## 문제4"
   ]
  },
  {
   "cell_type": "code",
   "execution_count": 5,
   "id": "f2a8f617",
   "metadata": {},
   "outputs": [
    {
     "name": "stdout",
     "output_type": "stream",
     "text": [
      "반복문 종료\n"
     ]
    }
   ],
   "source": [
    "num=1                             \n",
    "\n",
    "while num<10:                     \n",
    "\tif num%5==0:                   \n",
    "\t\tbreak                        \n",
    "\tnum=num+1                      \n",
    "\n",
    "print(\"반복문 종료\")"
   ]
  },
  {
   "cell_type": "markdown",
   "id": "1de8a97a",
   "metadata": {},
   "source": [
    "num이 10보다 작을동안 num에 1을 계속 더하게 되는데,\n",
    "중간에 4까지 더해지고, 그 다음 루프에서 5일때 나머지가 0이므로 합은 1+(1+1+1+1) = 5가 나온다"
   ]
  },
  {
   "cell_type": "code",
   "execution_count": 6,
   "id": "bf8d8c9b",
   "metadata": {},
   "outputs": [
    {
     "data": {
      "text/plain": [
       "5"
      ]
     },
     "execution_count": 6,
     "metadata": {},
     "output_type": "execute_result"
    }
   ],
   "source": [
    "num"
   ]
  },
  {
   "cell_type": "markdown",
   "id": "877daaaa",
   "metadata": {},
   "source": [
    "## 문제5"
   ]
  },
  {
   "cell_type": "markdown",
   "id": "ffaf5cd7",
   "metadata": {},
   "source": [
    "순서대로\n",
    "\n",
    "'파랑'  \n",
    "'빨강'  \n",
    "'파랑'  \n",
    "'검정'  \n",
    "'초록'  \n",
    "\n",
    "그리고 4~7까지 나온다."
   ]
  },
  {
   "cell_type": "code",
   "execution_count": 7,
   "id": "26a8b628",
   "metadata": {
    "scrolled": true
   },
   "outputs": [
    {
     "name": "stdout",
     "output_type": "stream",
     "text": [
      "파랑\n",
      "빨강\n",
      "파랑\n",
      "검정\n",
      "초록\n",
      "4\n",
      "5\n",
      "6\n",
      "7\n"
     ]
    }
   ],
   "source": [
    "color=[\"빨강\",\"파랑\",\"검정\",\"초록\"]   \n",
    "\n",
    "print(color[1])\n",
    "\n",
    "for x in color:\n",
    "\tprint(x)\n",
    "\n",
    "for x in range(4,8):\n",
    "\tprint(x)"
   ]
  },
  {
   "cell_type": "markdown",
   "id": "74199a55",
   "metadata": {},
   "source": [
    "## 문제6"
   ]
  },
  {
   "cell_type": "code",
   "execution_count": 8,
   "id": "dc8b3e4b",
   "metadata": {},
   "outputs": [],
   "source": [
    "dic = {'a' : 10, 'b' : 20, 'c' : 30}\n",
    "dic['d'] = 40"
   ]
  },
  {
   "cell_type": "code",
   "execution_count": 9,
   "id": "9cb6bc5d",
   "metadata": {},
   "outputs": [
    {
     "data": {
      "text/plain": [
       "dict_items([('a', 10), ('b', 20), ('c', 30), ('d', 40)])"
      ]
     },
     "execution_count": 9,
     "metadata": {},
     "output_type": "execute_result"
    }
   ],
   "source": [
    "dic.items()"
   ]
  },
  {
   "cell_type": "markdown",
   "id": "a9efd134",
   "metadata": {},
   "source": [
    "## 문제7"
   ]
  },
  {
   "cell_type": "markdown",
   "id": "73adbbb4",
   "metadata": {},
   "source": [
    "Set 자료형과 List 자료형의 가장 큰 차이점은 중복의 유무에 있다.  \n",
    "그리고 순서가 없어 indexing이 사용불가하다."
   ]
  },
  {
   "cell_type": "markdown",
   "id": "6be66a8e",
   "metadata": {},
   "source": [
    "## 문제8"
   ]
  },
  {
   "cell_type": "code",
   "execution_count": 10,
   "id": "77bf6c76",
   "metadata": {},
   "outputs": [],
   "source": [
    "likelion_staffs=[{\"name\":\"김\",\"age\":24},{\"name\":\"조\",\"age\":25},{\"name\":\"박\",\"age\":23}]\n",
    "age_sum = 0\n",
    "for i in likelion_staffs:\n",
    "    age_sum = age_sum + i['age']"
   ]
  },
  {
   "cell_type": "code",
   "execution_count": 11,
   "id": "f29a27ce",
   "metadata": {},
   "outputs": [
    {
     "name": "stdout",
     "output_type": "stream",
     "text": [
      "72\n"
     ]
    }
   ],
   "source": [
    "print(age_sum)"
   ]
  }
 ],
 "metadata": {
  "kernelspec": {
   "display_name": "Python 3 (ipykernel)",
   "language": "python",
   "name": "python3"
  },
  "language_info": {
   "codemirror_mode": {
    "name": "ipython",
    "version": 3
   },
   "file_extension": ".py",
   "mimetype": "text/x-python",
   "name": "python",
   "nbconvert_exporter": "python",
   "pygments_lexer": "ipython3",
   "version": "3.9.7"
  }
 },
 "nbformat": 4,
 "nbformat_minor": 5
}
