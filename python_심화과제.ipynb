{
 "cells": [
  {
   "cell_type": "markdown",
   "id": "e36fe5ed",
   "metadata": {},
   "source": [
    "# 과제1.Crawling"
   ]
  },
  {
   "cell_type": "markdown",
   "id": "3015cd40",
   "metadata": {},
   "source": [
    "## 1번"
   ]
  },
  {
   "cell_type": "markdown",
   "id": "f7362810",
   "metadata": {},
   "source": [
    "파싱 : 문서나 데이터를 의미있게 변경하는 작업"
   ]
  },
  {
   "cell_type": "markdown",
   "id": "395b8c42",
   "metadata": {},
   "source": [
    "## 2번"
   ]
  },
  {
   "cell_type": "code",
   "execution_count": 1,
   "id": "efacf5f7",
   "metadata": {},
   "outputs": [],
   "source": [
    "import requests\n",
    "from bs4 import BeautifulSoup"
   ]
  },
  {
   "cell_type": "markdown",
   "id": "380d1f4c",
   "metadata": {},
   "source": [
    "### (1)"
   ]
  },
  {
   "cell_type": "code",
   "execution_count": 2,
   "id": "65c048fe",
   "metadata": {},
   "outputs": [],
   "source": [
    "url = \"http://www.naver.com\"\n",
    "response = requests.get(url)\n",
    "soup = BeautifulSoup(response.text, 'html.parser')"
   ]
  },
  {
   "cell_type": "markdown",
   "id": "0a9f4778",
   "metadata": {},
   "source": [
    "### (2)"
   ]
  },
  {
   "cell_type": "code",
   "execution_count": 3,
   "id": "44861dea",
   "metadata": {},
   "outputs": [
    {
     "data": {
      "text/plain": [
       "[<title>NAVER</title>]"
      ]
     },
     "execution_count": 3,
     "metadata": {},
     "output_type": "execute_result"
    }
   ],
   "source": [
    "soup.select('title')"
   ]
  },
  {
   "cell_type": "markdown",
   "id": "6e9632bd",
   "metadata": {},
   "source": [
    "### (3)"
   ]
  },
  {
   "cell_type": "code",
   "execution_count": 4,
   "id": "3e434ad6",
   "metadata": {},
   "outputs": [
    {
     "name": "stdout",
     "output_type": "stream",
     "text": [
      "메일\n",
      "카페\n",
      "블로그\n",
      "지식iN\n",
      "쇼핑\n",
      "쇼핑LIVE\n",
      "Pay\n",
      "TV\n",
      "사전\n",
      "뉴스\n",
      "증권\n",
      "부동산\n",
      "지도\n",
      "VIBE\n",
      "책\n",
      "웹툰\n"
     ]
    }
   ],
   "source": [
    "for i in range(len(soup.select(' .nav_item'))):\n",
    "    print(str.strip(soup.select(' .nav_item')[i].text))"
   ]
  },
  {
   "cell_type": "markdown",
   "id": "f88de702",
   "metadata": {},
   "source": [
    "## 3번"
   ]
  },
  {
   "cell_type": "code",
   "execution_count": 5,
   "id": "935d53f3",
   "metadata": {},
   "outputs": [],
   "source": [
    "menus = soup.select(' .nav_item')\n",
    "file = open('NaverMenu.txt', 'w', encoding='utf-8')\n",
    "for menu in menus:\n",
    "    file.write(menu.text+\"\\n\")\n",
    "file.close()"
   ]
  },
  {
   "cell_type": "markdown",
   "id": "7c3193c5",
   "metadata": {},
   "source": [
    "![image info](./실행결과.png)"
   ]
  },
  {
   "cell_type": "markdown",
   "id": "dff89d95",
   "metadata": {},
   "source": [
    "# 과제 2 API"
   ]
  },
  {
   "cell_type": "code",
   "execution_count": 6,
   "id": "21b15d3b",
   "metadata": {},
   "outputs": [],
   "source": [
    "lat = 35.848987\n",
    "lon = 128.72818\n",
    "apikey = '027c7717a8d641034a5f3c256441893c'\n",
    "api = f\"http://api.openweathermap.org/data/2.5/air_pollution?lat={lat}&lon={lon}&appid={apikey}\""
   ]
  },
  {
   "cell_type": "code",
   "execution_count": 7,
   "id": "dab5a407",
   "metadata": {},
   "outputs": [],
   "source": [
    "result = requests.get(api)"
   ]
  },
  {
   "cell_type": "code",
   "execution_count": 8,
   "id": "f13178a4",
   "metadata": {},
   "outputs": [],
   "source": [
    "import json\n",
    "data = json.loads(result.text)"
   ]
  },
  {
   "cell_type": "code",
   "execution_count": 9,
   "id": "fb0a365d",
   "metadata": {},
   "outputs": [],
   "source": [
    "density = data['list'][0]['components']['pm10']\n",
    "if density > 151:\n",
    "    quality = '매우나쁨'\n",
    "elif density >= 80:\n",
    "    quality = '나쁨'\n",
    "elif density >= 30:\n",
    "    quality = '보통'\n",
    "else:\n",
    "    quality = '좋음'"
   ]
  },
  {
   "cell_type": "code",
   "execution_count": 10,
   "id": "6c6fdc04",
   "metadata": {},
   "outputs": [
    {
     "name": "stdout",
     "output_type": "stream",
     "text": [
      "미세먼지농도 : 29.98 이고 Qualitative name는 좋음\n"
     ]
    }
   ],
   "source": [
    "print('미세먼지농도 :', density, '이고', 'Qualitative name는', quality)"
   ]
  }
 ],
 "metadata": {
  "kernelspec": {
   "display_name": "Python 3 (ipykernel)",
   "language": "python",
   "name": "python3"
  },
  "language_info": {
   "codemirror_mode": {
    "name": "ipython",
    "version": 3
   },
   "file_extension": ".py",
   "mimetype": "text/x-python",
   "name": "python",
   "nbconvert_exporter": "python",
   "pygments_lexer": "ipython3",
   "version": "3.9.7"
  }
 },
 "nbformat": 4,
 "nbformat_minor": 5
}
